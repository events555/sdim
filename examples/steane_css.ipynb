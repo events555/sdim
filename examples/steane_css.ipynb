{
 "cells": [
  {
   "cell_type": "code",
   "execution_count": 1,
   "metadata": {},
   "outputs": [],
   "source": [
    "from sdim import *\n",
    "import cirq # using cirq to visualize the circuit\n",
    "import numpy as np"
   ]
  },
  {
   "cell_type": "markdown",
   "metadata": {},
   "source": [
    "### Encoding Steane Code\n",
    "This notebook follows the work of [MITRE](https://stem.mitre.org/quantum/error-correction-codes/steane-ecc.html) for implementing Steane's Error Correcting Code\n",
    "\n",
    "The circuit below prepares the logical $\\ket{0}$ codeword. An arbitrary $\\ket{\\psi} = \\alpha\\ket{0}+\\beta\\ket{1}$ can be put as an input on qubit $0$ instead."
   ]
  },
  {
   "cell_type": "code",
   "execution_count": 2,
   "metadata": {},
   "outputs": [],
   "source": [
    "encoding_circuit = Circuit(7, 2)\n",
    "encoding_circuit.append(\"H\", [4, 5,6])\n",
    "encoding_circuit.append(\"CNOT\", 0, [1, 2])\n",
    "encoding_circuit.append(\"CNOT\", 6, [0, 1, 3])\n",
    "encoding_circuit.append(\"CNOT\", 5, [0, 2, 3])\n",
    "encoding_circuit.append(\"CNOT\", 4, [1, 2, 3])"
   ]
  },
  {
   "cell_type": "markdown",
   "metadata": {},
   "source": [
    "### Decoding Circuit\n",
    "This circuit reads out the bit index for a bitflip (X) and phase flip (Z) error. It is technically possible to use only 3 ancilla instead of 6, opting to reset the measurement qubits and storing the outcome."
   ]
  },
  {
   "cell_type": "code",
   "execution_count": 3,
   "metadata": {},
   "outputs": [],
   "source": [
    "bitflip_detection = Circuit(13, 2)\n",
    "bitflip_detection.append(\"CNOT\", [0, 2, 4, 6], 7)\n",
    "bitflip_detection.append(\"CNOT\", [1, 2, 5, 6], 8)\n",
    "bitflip_detection.append(\"CNOT\", [3, 4, 5, 6], 9)\n",
    "bitflip_detection.append(\"M\", [7, 8, 9])"
   ]
  },
  {
   "cell_type": "code",
   "execution_count": 4,
   "metadata": {},
   "outputs": [
    {
     "name": "stdout",
     "output_type": "stream",
     "text": [
      "             ┌──────────────────────────────────────────┐   ┌────────────────────────────────────────────────────────┐   ┌────────────────────────────┐   ┌────────────────────────────────────────────────────────┐   ┌───────────────────────────────────────────────────────────┐   ┌─────────────────────────────────────────────┐   ┌───────────────────────────────┐   ┌─────────────────┐   ┌─────────────────┐\n",
      "0 (d=2): ─────CNOT_2_control───────────────────────────────────────────────CNOT_2_target───────────────────────────────────────────────────────────────────────────────────────────────────────────────────────────────────────────────────────────────────────────────────────────────────────────────────────────────────────────────────────────────────────────────────────────────────────────────────────────────────────\n",
      "              │                                                            │\n",
      "1 (d=2): ─────┼─────────────CNOT_2_control─────────────────────────────────┼─────────────CNOT_2_target─────────────────────────────────────────────────────────────────────────────────────────────────────────────────────────────────────────────────────────────────────────────────────────────────────────────────────────────────────────────────────────────────────────────────────────────────────────────────────────\n",
      "              │             │                                              │             │\n",
      "2 (d=2): ─────┼─────────────┼────────────────────────────────CNOT_2_control┼─────────────┼──────────────────────────────────────────────CNOT_2_control───────────────────────────────────────────────CNOT_2_target────────────────────────────────────────────────CNOT_2_target────────────────────────────────────────────────────────────────────────────────────────────────────────────────────────────────────────────────\n",
      "              │             │                                │             │             │                                              │                                                            │                                                            │\n",
      "3 (d=2): ─────┼─────────────┼─────────────CNOT_2_control─────┼─────────────┼─────────────┼─────────────CNOT_2_target────────────────────┼────────────────────────────────────────────────────────────┼────────────────────────────────────────────────────────────┼────────────────────────────────────────────────────────────────────────────────────────────────────────────────────────────────────────────────────────────\n",
      "              │             │             │                  │             │             │             │                                │                                                            │                                                            │\n",
      "4 (d=2): ─────┼─────────────┼─────────────┼──────────────────┼─────────────┼─────────────┼─────────────┼──────────────────CNOT_2_control┼──────────────────────────────────────────────CNOT_2_control┼──────────────────────────────────────────────CNOT_2_target─┼─────────────────────────────────────────────────CNOT_2_target──────────────────────────────────────────────────────────────────────────────────────────────\n",
      "              │             │             │                  │             │             │             │                  │             │                                              │             │                                              │             │                                                 │\n",
      "5 (d=2): ─────┼─────────────┼─────────────┼──────────────────┼─────────────┼─────────────┼─────────────┼──────────────────┼─────────────┼────────────────────────────────CNOT_2_control┼─────────────┼────────────────────────────────CNOT_2_control┼─────────────┼───────────────────────────────────CNOT_2_target─┼───────────────────────────────────CNOT_2_target──────────────────────────────────────────────────────────\n",
      "              │             │             │                  │             │             │             │                  │             │                                │             │             │                                │             │             │                                   │             │                                   │\n",
      "6 (d=2): ─────┼─────────────┼─────────────┼──────────────────┼─────────────┼─────────────┼─────────────┼──────────────────┼─────────────┼──────────────────CNOT_2_control┼─────────────┼─────────────┼──────────────────CNOT_2_control┼─────────────┼─────────────┼─────────────────────CNOT_2_control┼─────────────┼─────────────────────CNOT_2_target─┼─────────────────────CNOT_2_target─────────CNOT_2_target──────────────\n",
      "              │             │             │                  │             │             │             │                  │             │                  │             │             │             │                  │             │             │             │                     │             │             │                     │             │                     │                     │\n",
      "7 (d=2): ─────CNOT_2_target─┼─────────────┼──────────────────CNOT_2_target─┼─────────────┼─────────────┼──────────────────CNOT_2_target─┼──────────────────CNOT_2_target─┼─────────────┼─────────────┼──────────────────┼─────────────┼─────────────┼─────────────┼─────────────I_2─────┼─────────────┼─────────────┼─────────────────────┼─────────────┼─────────────────────┼─────────────────────┼──────────────────────────\n",
      "                            │             │                                │             │             │                                │                                │             │             │                  │             │             │             │                     │             │             │                     │             │                     │                     │\n",
      "8 (d=2): ───────────────────CNOT_2_target─┼────────────────────────────────┼─────────────┼─────────────┼────────────────────────────────CNOT_2_target────────────────────CNOT_2_target─┼─────────────┼──────────────────CNOT_2_target─┼─────────────┼─────────────┼─────────────────────┼─────────────┼─────────────┼─────────────I_2─────┼─────────────┼─────────────────────┼─────────────────────┼──────────────────────────\n",
      "                                          │                                │             │             │                                                                               │             │                                │             │             │                     │             │             │                     │             │                     │                     │\n",
      "9 (d=2): ─────────────────────────────────CNOT_2_target────────────────────┼─────────────┼─────────────┼───────────────────────────────────────────────────────────────────────────────CNOT_2_target─┼────────────────────────────────CNOT_2_target─┼─────────────┼─────────────────────CNOT_2_target─┼─────────────┼─────────────────────┼─────────────┼─────────────I_2─────┼─────────────────────┼──────────────────────────\n",
      "                                                                           │             │             │                                                                                             │                                              │             │                                   │             │                     │             │                     │                     │\n",
      "10 (d=2): ────H_2──────────────────────────────────────────────────────────CNOT_2_control┼─────────────┼─────────────────────────────────────────────────────────────────────────────────────────────CNOT_2_control─────────────────────────────────CNOT_2_control┼───────────────────────────────────┼─────────────┼─────────────────────CNOT_2_control┼─────────────────────┼─────────────H_2─────┼──────────────────────────\n",
      "                                                                                         │             │                                                                                                                                                          │                                   │             │                                   │                     │                     │\n",
      "11 (d=2): ────H_2────────────────────────────────────────────────────────────────────────CNOT_2_control┼──────────────────────────────────────────────────────────────────────────────────────────────────────────────────────────────────────────────────────────CNOT_2_control──────────────────────CNOT_2_control┼───────────────────────────────────┼─────────────────────CNOT_2_control────────┼─────────────H_2──────────\n",
      "                                                                                                       │                                                                                                                                                                                                            │                                   │                                           │\n",
      "12 (d=2): ────H_2──────────────────────────────────────────────────────────────────────────────────────CNOT_2_control───────────────────────────────────────────────────────────────────────────────────────────────────────────────────────────────────────────────────────────────────────────────────────────────CNOT_2_control──────────────────────CNOT_2_control──────────────────────────────CNOT_2_control───────H_2───\n",
      "             └──────────────────────────────────────────┘   └────────────────────────────────────────────────────────┘   └────────────────────────────┘   └────────────────────────────────────────────────────────┘   └───────────────────────────────────────────────────────────┘   └─────────────────────────────────────────────┘   └───────────────────────────────┘   └─────────────────┘   └─────────────────┘\n"
     ]
    }
   ],
   "source": [
    "phaseflip_detection = Circuit(13,2)\n",
    "phaseflip_detection.append(\"H\", [10, 11, 12])\n",
    "phaseflip_detection.append(\"CNOT\", 10, [0, 2, 4, 6])\n",
    "phaseflip_detection.append(\"CNOT\", 11, [1, 2, 5, 6])\n",
    "phaseflip_detection.append(\"CNOT\", 12, [3, 4, 5, 6])\n",
    "phaseflip_detection.append(\"H\", [10, 11, 12])\n",
    "phaseflip_detection.append(\"M\", [10, 11, 12])\n",
    "\n",
    "# Create the full decoding circuit\n",
    "decoding_circuit = bitflip_detection + phaseflip_detection\n",
    "\n",
    "cirq_circuit = circuit_to_cirq_circuit(decoding_circuit, print_circuit=True)"
   ]
  },
  {
   "cell_type": "markdown",
   "metadata": {},
   "source": [
    "### Error insertion\n",
    "The Steane error correcting code has distance 3 and corrects up to a single arbitrary error. There is no need to have the error be on the same qubit, but it must not be more than 1 bit and 1 phase flip in total."
   ]
  },
  {
   "cell_type": "code",
   "execution_count": 5,
   "metadata": {},
   "outputs": [
    {
     "name": "stdout",
     "output_type": "stream",
     "text": [
      "Error type: Y  on qubit 2\n"
     ]
    }
   ],
   "source": [
    "import random\n",
    "# Generate a random error\n",
    "qubit_index = random.randint(0, 6)\n",
    "error_type = random.choice([\"X\", \"Y\", \"Z\"])\n",
    "probability = 0.8\n",
    "error_occured = True if np.random.rand() < probability else False\n",
    "if error_type == \"X\" and error_occured:\n",
    "    encoding_circuit.append(\"X\", qubit_index)\n",
    "if error_type == \"Z\" and error_occured:\n",
    "    encoding_circuit.append(\"Z\", qubit_index)\n",
    "if error_type == \"Y\" and error_occured:\n",
    "    encoding_circuit.append(\"X\", qubit_index)\n",
    "    encoding_circuit.append(\"Z\", qubit_index)\n",
    "if error_occured:\n",
    "    print(\"Error type:\", error_type, \" on qubit\", qubit_index)\n",
    "else:\n",
    "    print(\"No error occured\")"
   ]
  },
  {
   "cell_type": "markdown",
   "metadata": {},
   "source": [
    "### Syndrome Measurement"
   ]
  },
  {
   "cell_type": "code",
   "execution_count": 6,
   "metadata": {},
   "outputs": [
    {
     "name": "stdout",
     "output_type": "stream",
     "text": [
      "Measurement results:\n",
      "Measured qudit (7) as (1) and was deterministic\n",
      "Measured qudit (8) as (1) and was deterministic\n",
      "Measured qudit (9) as (0) and was deterministic\n",
      "Measured qudit (10) as (1) and was deterministic\n",
      "Measured qudit (11) as (1) and was deterministic\n",
      "Measured qudit (12) as (0) and was deterministic\n"
     ]
    }
   ],
   "source": [
    "final_circuit = encoding_circuit + decoding_circuit\n",
    "program = Program(final_circuit)\n",
    "results = program.simulate(show_measurement=True)"
   ]
  },
  {
   "cell_type": "markdown",
   "metadata": {},
   "source": [
    "### Syndrome Lookup Table\n",
    "\n",
    "| Broken Qubit Index | $bit_0$ Value | $bit_1$ Value | $bit_2$ Value |\n",
    "|--------------------|---------------|---------------|---------------|\n",
    "| None               | 0             | 0             | 0             |\n",
    "| 0                  | 0             | 0             | 1             |\n",
    "| 1                  | 0             | 1             | 0             |\n",
    "| 2                  | 0             | 1             | 1             |\n",
    "| 3                  | 1             | 0             | 0             |\n",
    "| 4                  | 1             | 0             | 1             |\n",
    "| 5                  | 1             | 1             | 0             |\n",
    "| 6                  | 1             | 1             | 1             |\n",
    "\n",
    "Worth noting is that the index value is offset by one to include the occurence of no error.\n",
    "\n",
    "The bits are also reverse order to the output one, with qudit (7) and qudit (10) representing $bit_2$ and qudit (9) and qudit (12) representing $bit_0$\n"
   ]
  },
  {
   "cell_type": "code",
   "execution_count": 7,
   "metadata": {},
   "outputs": [
    {
     "data": {
      "text/plain": [
       "'/home/stevenn/projects/sdim/src/sdim/../circuits/css_steane_final.chp'"
      ]
     },
     "execution_count": 7,
     "metadata": {},
     "output_type": "execute_result"
    }
   ],
   "source": [
    "write_circuit(final_circuit, \"css_steane_final.chp\", comment=\"Error type {} on qubit {}\".format(error_type, qubit_index))"
   ]
  },
  {
   "cell_type": "markdown",
   "metadata": {},
   "source": [
    "### References\n",
    "MITRE. June 29, 2021. Steane Error Correction Code. Retrieved August 28, 2024, from https://stem.mitre.org/quantum/error-correction-codes/steane-ecc.html\n"
   ]
  }
 ],
 "metadata": {
  "kernelspec": {
   "display_name": "QuantumComputing",
   "language": "python",
   "name": "python3"
  },
  "language_info": {
   "codemirror_mode": {
    "name": "ipython",
    "version": 3
   },
   "file_extension": ".py",
   "mimetype": "text/x-python",
   "name": "python",
   "nbconvert_exporter": "python",
   "pygments_lexer": "ipython3",
   "version": "3.11.5"
  }
 },
 "nbformat": 4,
 "nbformat_minor": 2
}
